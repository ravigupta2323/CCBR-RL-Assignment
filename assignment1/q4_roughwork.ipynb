{
  "nbformat": 4,
  "nbformat_minor": 0,
  "metadata": {
    "colab": {
      "name": "RL_Q4.ipynb",
      "provenance": []
    },
    "kernelspec": {
      "name": "python3",
      "display_name": "Python 3"
    }
  },
  "cells": [
    {
      "cell_type": "code",
      "metadata": {
        "id": "WfH5EY9XPS-7",
        "colab_type": "code",
        "colab": {}
      },
      "source": [
        ""
      ],
      "execution_count": 0,
      "outputs": []
    },
    {
      "cell_type": "markdown",
      "metadata": {
        "id": "IqpEB1T4on6w",
        "colab_type": "text"
      },
      "source": [
        "This notebook is for doing required calculation in Q4. I have just included this as a refrence."
      ]
    },
    {
      "cell_type": "markdown",
      "metadata": {
        "id": "lHUUDBEJonPH",
        "colab_type": "text"
      },
      "source": [
        ""
      ]
    },
    {
      "cell_type": "code",
      "metadata": {
        "id": "916E3K6APXYq",
        "colab_type": "code",
        "outputId": "71475b5c-fdd4-474b-a6d5-3a74f45b6081",
        "colab": {
          "base_uri": "https://localhost:8080/",
          "height": 50
        }
      },
      "source": [
        "import numpy as np\n",
        "from numpy.linalg import inv\n",
        "\n",
        "I = np.eye(2)\n",
        "print(I)"
      ],
      "execution_count": 1,
      "outputs": [
        {
          "output_type": "stream",
          "text": [
            "[[1. 0.]\n",
            " [0. 1.]]\n"
          ],
          "name": "stdout"
        }
      ]
    },
    {
      "cell_type": "code",
      "metadata": {
        "id": "AMHGoAtKPfdy",
        "colab_type": "code",
        "colab": {}
      },
      "source": [
        "def J_mu (g, P):\n",
        "  alpha = 0.1\n",
        "  I = np.eye(2)  \n",
        "  return inv(I - alpha * P).dot(g)"
      ],
      "execution_count": 0,
      "outputs": []
    },
    {
      "cell_type": "code",
      "metadata": {
        "id": "rBqV_T34P89J",
        "colab_type": "code",
        "outputId": "dd7912a2-deab-450b-fe54-82a4908238c2",
        "colab": {
          "base_uri": "https://localhost:8080/",
          "height": 119
        }
      },
      "source": [
        "#Policy 1\n",
        "g = np.array ([[0.5 * -9 + 0.5 * -3] , \n",
        "               [0.6 * 7 + 0.4 * -3]])\n",
        "# g.reshape(1, 2)\n",
        "print (g)\n",
        "\n",
        "P = np.array([[0.5 , 0.5], \n",
        "              [0.4, 0.6]])\n",
        "\n",
        "print (P)\n",
        "\n",
        "print (J_mu(g, P))"
      ],
      "execution_count": 0,
      "outputs": [
        {
          "output_type": "stream",
          "text": [
            "[[-6.]\n",
            " [ 3.]]\n",
            "[[0.5 0.5]\n",
            " [0.4 0.6]]\n",
            "[[-6.16161616]\n",
            " [ 2.92929293]]\n"
          ],
          "name": "stdout"
        }
      ]
    },
    {
      "cell_type": "code",
      "metadata": {
        "id": "akuF6leTkmPn",
        "colab_type": "code",
        "colab": {}
      },
      "source": [
        "#Value \n",
        "# print(TJ (g, P, J))"
      ],
      "execution_count": 0,
      "outputs": []
    },
    {
      "cell_type": "code",
      "metadata": {
        "id": "UdR2J4WCRDyV",
        "colab_type": "code",
        "outputId": "475b6ee9-f3e7-4ab4-941b-ae641536a121",
        "colab": {
          "base_uri": "https://localhost:8080/",
          "height": 119
        }
      },
      "source": [
        "\n",
        "#Policy 2\n",
        "g = np.array ([[0.8 * -4 + 0.2 * -4] , \n",
        "               [0.7 * -1 + 0.3 * 19]])\n",
        "# g.reshape(1, 2)\n",
        "print (g)\n",
        "\n",
        "P = np.array([[0.8 , 0.2], \n",
        "              [0.7, 0.3]])\n",
        "\n",
        "print (P)\n",
        "\n",
        "print (J_mu(g, P))"
      ],
      "execution_count": 0,
      "outputs": [
        {
          "output_type": "stream",
          "text": [
            "[[-4.]\n",
            " [ 5.]]\n",
            "[[0.8 0.2]\n",
            " [0.7 0.3]]\n",
            "[[-4.24242424]\n",
            " [ 4.84848485]]\n"
          ],
          "name": "stdout"
        }
      ]
    },
    {
      "cell_type": "code",
      "metadata": {
        "id": "LWdXZl1cV0zD",
        "colab_type": "code",
        "outputId": "0420bfd3-7502-41d7-b51f-480ca6e38641",
        "colab": {
          "base_uri": "https://localhost:8080/",
          "height": 119
        }
      },
      "source": [
        "#Policy 3\n",
        "g = np.array ([[0.5 * -9 + 0.5 * -3] , \n",
        "               [0.7 * -1 + 0.3 * 19]])\n",
        "# g.reshape(1, 2)\n",
        "print (g)\n",
        "\n",
        "P = np.array([[0.5 , 0.5], \n",
        "              [0.7, 0.3]])\n",
        "\n",
        "print (P)\n",
        "\n",
        "print (J_mu(g, P))"
      ],
      "execution_count": 0,
      "outputs": [
        {
          "output_type": "stream",
          "text": [
            "[[-6.]\n",
            " [ 5.]]\n",
            "[[0.5 0.5]\n",
            " [0.7 0.3]]\n",
            "[[-6.06753813]\n",
            " [ 4.7167756 ]]\n"
          ],
          "name": "stdout"
        }
      ]
    },
    {
      "cell_type": "code",
      "metadata": {
        "id": "EFz9bnvKXI4m",
        "colab_type": "code",
        "outputId": "1a1036e9-404f-4fda-acba-888963786789",
        "colab": {
          "base_uri": "https://localhost:8080/",
          "height": 119
        }
      },
      "source": [
        "#Policy 4\n",
        "g = np.array ([[0.8 * -4 + 0.2 * -4] , \n",
        "               [0.6 * 7 + 0.4 * -3]])\n",
        "# g.reshape(1, 2)\n",
        "print (g)\n",
        "\n",
        "P = np.array([[0.8 , 0.2], \n",
        "              [0.4, 0.6]])\n",
        "\n",
        "print (P)\n",
        "\n",
        "print (J_mu(g, P))"
      ],
      "execution_count": 0,
      "outputs": [
        {
          "output_type": "stream",
          "text": [
            "[[-4.]\n",
            " [ 3.]]\n",
            "[[0.8 0.2]\n",
            " [0.4 0.6]]\n",
            "[[-4.28240741]\n",
            " [ 3.00925926]]\n"
          ],
          "name": "stdout"
        }
      ]
    },
    {
      "cell_type": "code",
      "metadata": {
        "id": "9A_lp40YX7nT",
        "colab_type": "code",
        "outputId": "8f6d97d7-806f-4fdf-b628-c9315419b9b8",
        "colab": {
          "base_uri": "https://localhost:8080/",
          "height": 51
        }
      },
      "source": [
        "def TJ (g, P, J):\n",
        "  alpha = 0.9\n",
        "  return g + alpha * P.dot(J)\n",
        "\n",
        "J = np.array([[-9.24],\n",
        "              [0.65]])\n",
        "print (J)"
      ],
      "execution_count": 0,
      "outputs": [
        {
          "output_type": "stream",
          "text": [
            "[[-9.24]\n",
            " [ 0.65]]\n"
          ],
          "name": "stdout"
        }
      ]
    },
    {
      "cell_type": "code",
      "metadata": {
        "id": "lWIq2QafkZ5A",
        "colab_type": "code",
        "outputId": "5831e26c-e9ca-4c4b-e647-8f8fced3adad",
        "colab": {
          "base_uri": "https://localhost:8080/",
          "height": 51
        }
      },
      "source": [
        "#Policy 1\n",
        "g = np.array ([[0.5 * -9 + 0.5 * -3] , \n",
        "               [0.6 * 7 + 0.4 * -3]])\n",
        "\n",
        "P = np.array([[0.5 , 0.5], \n",
        "              [0.4, 0.6]])\n",
        "print(TJ (g, P, J))"
      ],
      "execution_count": 0,
      "outputs": [
        {
          "output_type": "stream",
          "text": [
            "[[-9.8655]\n",
            " [ 0.0246]]\n"
          ],
          "name": "stdout"
        }
      ]
    },
    {
      "cell_type": "code",
      "metadata": {
        "id": "a6imcqElkzVO",
        "colab_type": "code",
        "outputId": "21371e06-5912-4f4f-af64-9d0512f98737",
        "colab": {
          "base_uri": "https://localhost:8080/",
          "height": 51
        }
      },
      "source": [
        "#Policy 2\n",
        "g = np.array ([[0.8 * -4 + 0.2 * -4] , \n",
        "               [0.7 * -1 + 0.3 * 19]])\n",
        "P = np.array([[0.8 , 0.2], \n",
        "              [0.7, 0.3]])\n",
        "\n",
        "print(TJ (g, P, J))"
      ],
      "execution_count": 0,
      "outputs": [
        {
          "output_type": "stream",
          "text": [
            "[[-10.5358]\n",
            " [ -0.6457]]\n"
          ],
          "name": "stdout"
        }
      ]
    },
    {
      "cell_type": "code",
      "metadata": {
        "id": "BEALmtwGfw1g",
        "colab_type": "code",
        "colab": {}
      },
      "source": [
        ""
      ],
      "execution_count": 0,
      "outputs": []
    }
  ]
}