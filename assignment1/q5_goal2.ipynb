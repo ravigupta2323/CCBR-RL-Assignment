{
 "cells": [
  {
   "cell_type": "code",
   "execution_count": 1,
   "metadata": {
    "colab": {},
    "colab_type": "code",
    "id": "OD1HJLP49scn"
   },
   "outputs": [],
   "source": [
    "import numpy as np\n",
    "from matplotlib import pyplot as plt\n"
   ]
  },
  {
   "cell_type": "markdown",
   "metadata": {
    "colab_type": "text",
    "id": "cOW0xqkJNU0c"
   },
   "source": [
    "I am implementing value iteration and policy iteration algorithms as given in Chapter 4 of **'Reinforcement Learning: An Introduction' by Sutton and Barto.**\n",
    "(Figure 4.3:Policy Iteration and Figure 4.5:Value Iteration)"
   ]
  },
  {
   "cell_type": "code",
   "execution_count": 2,
   "metadata": {
    "colab": {
     "base_uri": "https://localhost:8080/",
     "height": 208
    },
    "colab_type": "code",
    "id": "XuSHkWizCQcw",
    "outputId": "e0a488a6-d91a-41a6-a7a8-ecb1eb81c048"
   },
   "outputs": [
    {
     "name": "stdout",
     "output_type": "stream",
     "text": [
      "[[0 0 0 0 0 0 0 2 0 0]\n",
      " [0 0 0 0 0 0 0 0 0 0]\n",
      " [0 0 0 0 0 0 0 0 0 0]\n",
      " [0 0 0 0 0 0 0 0 0 0]\n",
      " [0 0 0 0 0 0 0 0 0 0]\n",
      " [0 0 0 0 0 0 0 0 0 0]\n",
      " [0 0 0 0 0 0 0 0 0 0]\n",
      " [0 0 0 0 0 0 0 0 0 0]\n",
      " [0 0 0 0 0 0 0 0 0 0]\n",
      " [1 0 0 3 0 0 0 0 0 0]]\n",
      "0\n"
     ]
    }
   ],
   "source": [
    "##Initializing the states\n",
    "\n",
    "grid_type = ['Normal', 'GreyIn', 'BrownIn', 'Goal']\n",
    "##              0         1         2          3\n",
    "\n",
    "Grid = np.zeros([10,10], dtype='uint8')\n",
    "Grid[0][0] = 1\n",
    "Grid[7][9] = 2\n",
    "Grid[3][0] = 3 #Goal 1\n",
    "\n",
    "\n",
    "print(np.flip(Grid.T, axis=0))\n",
    "print(Grid[9, 9])"
   ]
  },
  {
   "cell_type": "code",
   "execution_count": 3,
   "metadata": {
    "colab": {},
    "colab_type": "code",
    "id": "L9rZ2MOwCbzq"
   },
   "outputs": [],
   "source": [
    "## Implementing probablity function\n",
    "## a is a string in 'up', 'down', 'left', 'right'\n",
    "\n",
    "actions = ['up', 'down', 'left', 'right']\n",
    "\n",
    "def p (s, a, sf):\n",
    "  if grid_type[Grid[s[0]][s[1]]] == 'GreyIn':\n",
    "    if sf[0] == 2 and sf[1] >= 3 and sf[1] <=7:\n",
    "      return 1/4\n",
    "    else:\n",
    "      return 0\n",
    "  elif grid_type[Grid[s[0]][s[1]]] == 'BrownIn':\n",
    "    if sf == [7, 1]:\n",
    "      return 1\n",
    "    else:\n",
    "      return 0\n",
    "  elif grid_type[Grid[s[0]][s[1]]] == 'Goal':\n",
    "    if sf == s:\n",
    "      return 1\n",
    "    else:\n",
    "      return 0\n",
    "  c = {}\n",
    "  if (s[1] < 9):\n",
    "    c['up'] = [s[0], s[1] + 1]\n",
    "  else:\n",
    "    c['up'] = [s[0], s[1]]\n",
    "  if (s[1] > 0):\n",
    "    c['down'] = [s[0], s[1]-1]\n",
    "  else:\n",
    "    c['down'] = [s[0], s[1]]\n",
    "  if (s[0] < 9):\n",
    "    c['right'] = [s[0]+1, s[1]]\n",
    "  else:\n",
    "    c['right'] = [s[0], s[1]]\n",
    "  if (s[0] > 0):\n",
    "    c['left'] = [s[0]-1, s[1]]\n",
    "  else:\n",
    "    c['left'] = [s[0], s[1]]\n",
    "\n",
    "  p = 0\n",
    "  for key, value in c.items():\n",
    "    if sf == value and key == a:\n",
    "      p += 0.8\n",
    "    elif sf == value:\n",
    "      p += 0.2/3\n",
    "  \n",
    "  return p  \n",
    "\n",
    "\n"
   ]
  },
  {
   "cell_type": "markdown",
   "metadata": {
    "colab_type": "text",
    "id": "7Z88GLDsNTMZ"
   },
   "source": []
  },
  {
   "cell_type": "code",
   "execution_count": 4,
   "metadata": {
    "colab": {
     "base_uri": "https://localhost:8080/",
     "height": 35
    },
    "colab_type": "code",
    "id": "yd3fg07JSruU",
    "outputId": "6e887f61-38ac-4e54-bfd5-380ed9184118"
   },
   "outputs": [
    {
     "name": "stdout",
     "output_type": "stream",
     "text": [
      "0.13333333333333333\n"
     ]
    }
   ],
   "source": [
    "## Sanity check for probability function\n",
    "\n",
    "print (p ([0, 9], 'down', [0, 9]))\n"
   ]
  },
  {
   "cell_type": "markdown",
   "metadata": {
    "colab_type": "text",
    "id": "D8HJj7PdNbTN"
   },
   "source": [
    "I am modelling the problem as an infinite horizon problem such that the Goal state only has a transition to itself with probability 1.\n",
    "\n",
    "Reaching the Goal state from any other state entails an Reward of +10 but reaching Goal from itself (after termination) would not not entail any rewards. (Although it wouldn't affect the policies since it would just mean scaling reward by 1/(1-alpha)."
   ]
  },
  {
   "cell_type": "code",
   "execution_count": 5,
   "metadata": {
    "colab": {
     "base_uri": "https://localhost:8080/",
     "height": 52
    },
    "colab_type": "code",
    "id": "VgOCOHXySxBz",
    "outputId": "c8f476b9-6dbd-41e7-f29b-11a67d1af5a3"
   },
   "outputs": [
    {
     "name": "stdout",
     "output_type": "stream",
     "text": [
      "0\n",
      "0\n"
     ]
    }
   ],
   "source": [
    "\n",
    "\n",
    "## Reward Function\n",
    "def r (s, sf):\n",
    "  if s != sf and grid_type[Grid[sf[0]][sf[1]]] == 'Goal':\n",
    "    return 10\n",
    "  else:\n",
    "    return 0\n",
    "\n",
    "## Sanity check for reward function\n",
    "print(r([9,9],[9,9]))\n",
    "print (r([3,4], [9,9]))"
   ]
  },
  {
   "cell_type": "code",
   "execution_count": 6,
   "metadata": {
    "colab": {},
    "colab_type": "code",
    "id": "DNfzoTowO31p"
   },
   "outputs": [],
   "source": [
    "## Choose 3 random states for question 2b. \n",
    "random_states = {}\n",
    "random_states[(5, 5)] = []\n",
    "random_states[(7, 2)] = []\n",
    "random_states[(2, 8)] = []\n",
    "random_states[(9, 9)] = []\n",
    "random_states[(1, 8)] = []\n",
    "# random_states[(1, 4)] = []\n",
    "# random_states[(3, 6)] = []\n",
    "# random_states[(3, 0)] = []\n",
    "\n",
    "\n",
    "random_statesPI = {}\n",
    "random_statesPI[(5, 5)] = []\n",
    "random_statesPI[(7, 2)] = []\n",
    "random_statesPI[(2, 8)] = []\n",
    "random_statesPI[(9, 9)] = []\n",
    "random_statesPI[(1, 8)] = []\n",
    "# random_statesPI[(1, 4)] = []\n",
    "# random_statesPI[(3, 6)] = []\n",
    "# random_statesPI[(3, 0)] = []\n",
    "\n",
    "\n",
    "## Initializing policy with all 'up'.\n",
    "piVI = {}\n",
    "for i in range(10):\n",
    "  for j in range(10):\n",
    "    piVI[(i,j)] = 'up'\n"
   ]
  },
  {
   "cell_type": "markdown",
   "metadata": {
    "colab_type": "text",
    "id": "uEAkuzOmddAD"
   },
   "source": [
    "In the following cell, I am going to implement value iteration. I am implementing the **Gauss-Seidel method (Asynchronous value iteration)** since it is more natural to implement when we are not doing any parallel processing."
   ]
  },
  {
   "cell_type": "code",
   "execution_count": null,
   "metadata": {
    "colab": {
     "base_uri": "https://localhost:8080/",
     "height": 988
    },
    "colab_type": "code",
    "id": "kB3ul2CfTz9M",
    "outputId": "24bde943-55c4-42ff-efe2-6a0cd2cde29c"
   },
   "outputs": [
    {
     "name": "stdout",
     "output_type": "stream",
     "text": [
      "8.417331626666666\n",
      "6.543040797158186\n",
      "3.799847563246603\n",
      "2.60672418810078\n",
      "1.9529894556256204\n",
      "1.4405298127183146\n",
      "0.9981456106883213\n",
      "0.7239154320846257\n",
      "0.5841961479362094\n",
      "0.5997405348603131\n",
      "0.628118639328541\n",
      "0.6572394339944996\n",
      "0.687560862397012\n",
      "0.7192473427295667\n",
      "0.7524003973844486\n",
      "0.787085273468282\n",
      "0.8233666074657862\n",
      "0.861319699321804\n",
      "0.9010221117505601\n",
      "0.9425545772039392\n",
      "0.9860014697834494\n",
      "1.0314510382521114\n",
      "1.0789955964225157\n",
      "1.1287317127042655\n",
      "1.1807604066609692\n",
      "1.235187354290609\n",
      "1.2921231026926705\n",
      "1.3516832946105204\n",
      "1.4139889033175663\n",
      "1.4791664783285725\n",
      "1.5473484024369455\n",
      "1.6186731605996059\n",
      "1.6933101346310124\n",
      "1.7716969512545049\n",
      "1.8536162108110972\n",
      "1.9393182108355447\n",
      "2.0289823321199734\n",
      "2.1227920425589915\n",
      "2.2209390292222935\n",
      "2.3236238255973944\n",
      "2.431056237803041\n",
      "2.54345577172856\n",
      "2.661052087723199\n",
      "2.7840854547096043\n",
      "2.9128072523708184\n",
      "3.047480484173562\n",
      "3.1883803154819077\n",
      "3.3357946322362295\n",
      "3.490024629901029\n",
      "3.6513854301401807\n",
      "3.8202067249442138\n",
      "3.996833449441212\n",
      "4.1816264862970485\n",
      "4.374963403617414\n",
      "4.577239226421796\n",
      "4.78886724371425\n",
      "5.010279852884665\n",
      "5.241929443167095\n",
      "5.484289319953007\n",
      "5.737854671844218\n",
      "6.00314358241917\n",
      "6.280698088778507\n",
      "6.571085289032823\n",
      "6.8748985009947035\n",
      "7.192758474443082\n",
      "7.525314659436475\n",
      "7.873246533266041\n",
      "8.237264988760955\n",
      "8.618113786781208\n",
      "9.016571075866324\n",
      "9.433450982145075\n",
      "9.869605272754256\n",
      "10.325925096165378\n",
      "10.803342802975578\n",
      "11.302833850881342\n",
      "11.825418797730038\n",
      "12.372165386718848\n",
      "12.944190728002411\n",
      "13.542663581167915\n",
      "14.168806743239145\n",
      "14.82389954708924\n",
      "15.509280475368655\n",
      "16.226349895287\n",
      "16.97657291983552\n",
      "17.761482401300952\n",
      "18.582682063181608\n",
      "19.441849776908384\n",
      "20.340740990063296\n",
      "21.281192313102792\n",
      "22.26512527191153\n",
      "23.294550233855375\n",
      "24.37157051535553\n",
      "25.49838667937388\n"
     ]
    }
   ],
   "source": [
    "## Value Iteration. I am using loops instead of matrices.\n",
    "\n",
    "## Initializing v with zeros. \n",
    "v = np.zeros([10, 10])\n",
    "\n",
    "alpha = 0.7\n",
    "\n",
    "delta_history = []\n",
    "\n",
    "# for l in range(5):  ###This for loop is there for 2(c)\n",
    "while (True):\n",
    "  delta = 0\n",
    "  #Per state iteration\n",
    "  for i in range(0, 10):\n",
    "    for j in range(0, 10):\n",
    "      prev_v = v[i, j]\n",
    "      max_val = -183303 #-infty\n",
    "      for a in actions:\n",
    "        val = 0\n",
    "        for k in range(0, 10):\n",
    "          for l in range(0, 10):       \n",
    "            val += p([i, j], a, [k, l])*(r([i, j],[k, l]) + alpha*v[k, l])\n",
    "          \n",
    "    \n",
    "        if (val > max_val):\n",
    "          max_val = val\n",
    "          piVI[(i, j)] = a\n",
    "          # print(a)\n",
    "\n",
    "      \n",
    "      v[i, j] = max_val\n",
    "      if (i, j) in random_states.keys():\n",
    "        random_states[(i, j)].append(max_val)\n",
    "\n",
    "\n",
    "      delta = max(delta, abs(prev_v - max_val))\n",
    "  \n",
    "  print (delta)\n",
    "  delta_history.append(delta)\n",
    "  ## Obtaining pi* from the obtained v (or J).\n",
    "  if (delta == 0):\n",
    "    piStrVI = piVI\n",
    "    break\n",
    "      \n",
    "        \n",
    "piStrVI = piVI"
   ]
  },
  {
   "cell_type": "code",
   "execution_count": null,
   "metadata": {
    "colab": {
     "base_uri": "https://localhost:8080/",
     "height": 364
    },
    "colab_type": "code",
    "id": "yfOWobr4aSfR",
    "outputId": "cab6e23d-952d-46f0-94d9-89b5da8a3306"
   },
   "outputs": [],
   "source": [
    "print(v)"
   ]
  },
  {
   "cell_type": "code",
   "execution_count": null,
   "metadata": {
    "colab": {
     "base_uri": "https://localhost:8080/",
     "height": 55
    },
    "colab_type": "code",
    "id": "HH7gvkmha1-i",
    "outputId": "1a18f3ae-6e34-4593-c327-2daf2510116d"
   },
   "outputs": [],
   "source": [
    "\n",
    "print (piStrVI)"
   ]
  },
  {
   "cell_type": "code",
   "execution_count": null,
   "metadata": {
    "colab": {
     "base_uri": "https://localhost:8080/",
     "height": 548
    },
    "colab_type": "code",
    "id": "4KHemy1HUx38",
    "outputId": "2b30bfac-02f4-42dd-9712-db5e2f4d79f6"
   },
   "outputs": [],
   "source": [
    "## Plot |J_i+1 - J_i|  vs iterations \n",
    "plt.plot (delta_history)\n",
    "plt.show()\n",
    "\n",
    "## Ploting the same on exponential scale.\n",
    "plt.plot (np.log10(delta_history))\n",
    "plt.show()\n",
    "\n"
   ]
  },
  {
   "cell_type": "markdown",
   "metadata": {
    "colab_type": "text",
    "id": "krt_z9f3V-d3"
   },
   "source": [
    "We can clearly see that the delta converges to 0 exponentially."
   ]
  },
  {
   "cell_type": "code",
   "execution_count": null,
   "metadata": {
    "colab": {},
    "colab_type": "code",
    "id": "L1bvx_8TRVUs"
   },
   "outputs": [],
   "source": [
    "## Initializing policy with all 'up'.\n",
    "piPI = {}\n",
    "for i in range(10):\n",
    "  for j in range(10):\n",
    "    piPI[(i,j)] = 'up'\n",
    "\n",
    "## Maintaing pi_i+1 != pi_i history vector\n",
    "diff_history = []\n",
    "\n",
    "## Initializing v_PI (J) with all zeros.\n",
    "v_PI = np.zeros([10, 10])"
   ]
  },
  {
   "cell_type": "markdown",
   "metadata": {
    "colab_type": "text",
    "id": "-bZD5oCkXdfK"
   },
   "source": [
    "This cell will implement policy iteration. The policy evaluation is done using an asynchronous value iteration like scheme."
   ]
  },
  {
   "cell_type": "code",
   "execution_count": null,
   "metadata": {
    "colab": {
     "base_uri": "https://localhost:8080/",
     "height": 121
    },
    "colab_type": "code",
    "id": "cdKZoDoUgIwW",
    "outputId": "2b2258e0-c2ab-4c30-c26c-752f2e00cbcc"
   },
   "outputs": [],
   "source": [
    "## Policy iteration\n",
    "\n",
    "\n",
    "# for l in range(4): ### This for loop is there for 2(d)\n",
    "while(True):\n",
    "  ## Policy Evaluation\n",
    "  while (True):\n",
    "    delta = 0\n",
    "    #Per state iteration\n",
    "    for i in range(0, 10):\n",
    "      for j in range(0, 10):\n",
    "        prev_v = v_PI[i, j]\n",
    "        a = piPI [(i, j)]\n",
    "        val = 0\n",
    "        for k in range(0, 10):\n",
    "          for l in range(0, 10):       \n",
    "            val += p([i, j], a, [k, l])*(r([i, j],[k, l]) + alpha*v_PI[k, l])\n",
    "          \n",
    "        v_PI[i, j] = val\n",
    "        delta = max(delta, abs(prev_v - val))\n",
    "    \n",
    "    #Ending Policy Evaluation Step  once J is found.\n",
    "    if (delta < 1e-13):\n",
    "      break\n",
    "\n",
    "\n",
    "  ## Policy improvement\n",
    "    \n",
    "  diff = 0\n",
    "  for i in range(0, 10):\n",
    "    for j in range(0, 10):\n",
    "      prev_action = piPI[(i,j)]\n",
    "      max_val = -183303 #-infty\n",
    "      for a in actions:\n",
    "        val = 0\n",
    "        for k in range(0, 10):\n",
    "          for l in range(0, 10):       \n",
    "            val += p([i, j], a, [k, l])*(r([i, j],[k, l]) + alpha*v_PI[k, l])\n",
    "          \n",
    "        if (val > max_val):\n",
    "          max_val = val\n",
    "          piPI[(i, j)] = a\n",
    "      if (i, j) in random_statesPI.keys():\n",
    "        random_statesPI[(i, j)].append(max_val)\n",
    "\n",
    "         \n",
    "    \n",
    "      if (piPI[(i, j)] != prev_action):\n",
    "        diff += 1\n",
    "  diff_history.append(diff)\n",
    "  print (diff)\n",
    "  if (diff == 0):\n",
    "    piStrPI = piPI\n",
    "    break    \n",
    "\n",
    "\n",
    "      \n",
    "piStrPI = piPI\n",
    "\n"
   ]
  },
  {
   "cell_type": "markdown",
   "metadata": {
    "colab_type": "text",
    "id": "giqQatoTh_iZ"
   },
   "source": [
    " As we can see that both policy iteration and value iteration give similar J* as should be expected. The are exactly the same because in both the cases I am terminating value iteration only when the delta is exactly zero."
   ]
  },
  {
   "cell_type": "code",
   "execution_count": null,
   "metadata": {
    "colab": {
     "base_uri": "https://localhost:8080/",
     "height": 191
    },
    "colab_type": "code",
    "id": "EJRjzWRhYswG",
    "outputId": "bc1a0e39-e77b-4a66-e6fa-638d3d609ef3"
   },
   "outputs": [],
   "source": [
    "\n",
    "print(v_PI - v)"
   ]
  },
  {
   "cell_type": "code",
   "execution_count": null,
   "metadata": {
    "colab": {
     "base_uri": "https://localhost:8080/",
     "height": 55
    },
    "colab_type": "code",
    "id": "XKUTgMa_c2u6",
    "outputId": "79133122-5c82-4312-d4a7-c9ee77fb9dc2"
   },
   "outputs": [],
   "source": [
    "print (piPI)"
   ]
  },
  {
   "cell_type": "code",
   "execution_count": null,
   "metadata": {
    "colab": {
     "base_uri": "https://localhost:8080/",
     "height": 265
    },
    "colab_type": "code",
    "id": "0TZ1lQCPdGFQ",
    "outputId": "bfbae885-d0a3-4cd0-bc2e-fd54f541bb9f"
   },
   "outputs": [],
   "source": [
    "## Policy iteration converges in 6 steps hence we don't have a sufficiently good curve. But we should have expected an exponential curve.\n",
    "plt.plot(diff_history, label='Policy Iteration')\n",
    "\n",
    "plt.show()\n"
   ]
  },
  {
   "cell_type": "code",
   "execution_count": null,
   "metadata": {
    "colab": {
     "base_uri": "https://localhost:8080/",
     "height": 218
    },
    "colab_type": "code",
    "id": "SYDpDB_Udzl_",
    "outputId": "879de5dd-3e9c-4f65-c3f0-b3609f6648a5"
   },
   "outputs": [],
   "source": [
    "## Simultaneous plots after scaling down to similar scales\n",
    "\n",
    "plt.plot(diff_history, label='Policy Iteration')\n",
    "plt.plot(delta_history, label='Value Iteration')\n",
    "plt.legend()\n",
    "plt.show()\n"
   ]
  },
  {
   "cell_type": "code",
   "execution_count": null,
   "metadata": {
    "colab": {
     "base_uri": "https://localhost:8080/",
     "height": 162
    },
    "colab_type": "code",
    "id": "4ER6-aBLj-vV",
    "outputId": "718ccc7c-db81-432e-86b3-f005e8b383f7"
   },
   "outputs": [],
   "source": []
  },
  {
   "cell_type": "markdown",
   "metadata": {
    "colab_type": "text",
    "id": "s0B2XvhcrYBx"
   },
   "source": [
    "![image.png](data:image/png;base64,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)"
   ]
  },
  {
   "cell_type": "code",
   "execution_count": null,
   "metadata": {
    "colab": {},
    "colab_type": "code",
    "id": "bnlRbzuOrP8H"
   },
   "outputs": [],
   "source": [
    "!ls -a\n",
    "# !conda install -c conda-forge opencv\n",
    "import cv2\n",
    "grIm = cv2.imread('grid.png')"
   ]
  },
  {
   "cell_type": "code",
   "execution_count": null,
   "metadata": {},
   "outputs": [],
   "source": [
    "plt.imshow(grIm)\n",
    "plt.show()"
   ]
  },
  {
   "cell_type": "code",
   "execution_count": null,
   "metadata": {},
   "outputs": [],
   "source": [
    "[w, h, channels] = (np.shape(grIm))"
   ]
  },
  {
   "cell_type": "code",
   "execution_count": null,
   "metadata": {},
   "outputs": [],
   "source": [
    "def draw_arrow(dirc, im, cellt):\n",
    "    cell = [cellt[0], 9 - cellt[1]]\n",
    "    \n",
    "    if dirc == 'down':\n",
    "        start_point = (cell[0]*w//10 + 30, cell[1]*h//10 + 7)  \n",
    "        end_point = (cell[0]*w//10 + 30, cell[1]*h//10 + 53)\n",
    "    if dirc == 'up':\n",
    "        start_point = (cell[0]*w//10 + 30, cell[1]*h//10 + 53)  \n",
    "        end_point = (cell[0]*w//10 + 30, cell[1]*h//10 + 7)\n",
    "    if dirc == 'right':\n",
    "        start_point = (cell[0]*w//10 + 7, cell[1]*h//10 + 30)  \n",
    "        end_point = (cell[0]*w//10 + 53, cell[1]*h//10 + 30)\n",
    "    if dirc == 'left':\n",
    "        start_point = (cell[0]*w//10 + 53, cell[1]*h//10 + 30)  \n",
    "        end_point = (cell[0]*w//10 + 7, cell[1]*h//10 + 30)\n",
    "    \n",
    "    \n",
    "    color = (255, 0, 0)  \n",
    "  \n",
    "  \n",
    "    thickness = 4\n",
    "    return cv2.arrowedLine(im, start_point, end_point, color, thickness, tipLength = 0.5)  "
   ]
  },
  {
   "cell_type": "code",
   "execution_count": null,
   "metadata": {},
   "outputs": [],
   "source": [
    "# ar = draw_arrow('right', grIm, (3, 7))\n",
    "# plt.imshow(ar, aspect = 1)\n",
    "# plt.show()"
   ]
  },
  {
   "cell_type": "code",
   "execution_count": null,
   "metadata": {},
   "outputs": [],
   "source": [
    "# Policy for value iteration\n",
    "\n",
    "grIm = cv2.imread('grid.png')\n",
    "for key, val in piStrVI.items():\n",
    "    grIm = draw_arrow(val, grIm, key)\n",
    "plt.imshow(grIm)\n",
    "cv2.imwrite('pi_VI.png', grIm)\n",
    "\n",
    "plt.show()"
   ]
  },
  {
   "cell_type": "code",
   "execution_count": null,
   "metadata": {},
   "outputs": [],
   "source": [
    "# Policy for policy iteration\n",
    "\n",
    "grIm = cv2.imread('grid.png')\n",
    "for key, val in piStrPI.items():\n",
    "    grIm = draw_arrow(val, grIm, key)\n",
    "plt.imshow(grIm)\n",
    "cv2.imwrite('pi_PI.png', grIm)\n",
    "\n",
    "plt.show()"
   ]
  },
  {
   "cell_type": "code",
   "execution_count": null,
   "metadata": {},
   "outputs": [],
   "source": [
    "print (piStrPI == piStrVI)"
   ]
  },
  {
   "cell_type": "code",
   "execution_count": null,
   "metadata": {},
   "outputs": [],
   "source": [
    "# Value \n",
    "for key, value in random_states.items():\n",
    "    plt.plot(value)\n",
    "# plt.show()\n",
    "\n",
    "\n",
    "\n"
   ]
  },
  {
   "cell_type": "code",
   "execution_count": null,
   "metadata": {},
   "outputs": [],
   "source": [
    "#Policy\n",
    "\n",
    "for key, value in random_statesPI.items():\n",
    "    plt.plot(value)\n",
    "plt.show()"
   ]
  },
  {
   "cell_type": "code",
   "execution_count": null,
   "metadata": {},
   "outputs": [],
   "source": [
    "# Both\n",
    "for key, value in random_states.items():\n",
    "    plt.plot(value)\n",
    "# plt.show()\n",
    "\n",
    "\n",
    "\n",
    "for key, value in random_statesPI.items():\n",
    "    plt.plot(value)\n",
    "plt.show()"
   ]
  },
  {
   "cell_type": "raw",
   "metadata": {},
   "source": []
  },
  {
   "cell_type": "code",
   "execution_count": null,
   "metadata": {},
   "outputs": [],
   "source": [
    "# Function to inscribe J on the image.\n",
    "def plot_J(im, J):\n",
    "    for i in range(10):\n",
    "        for j in range(10):\n",
    "            a = i\n",
    "            b = 9 - j\n",
    "            font = cv2.FONT_HERSHEY_SIMPLEX\n",
    "            cv2.putText(im,str(round(J[i][j], 1)),(a*w//10 + 7 , b*h//10 + 50 ), font, 1,(0,0,255),2,cv2.LINE_AA)"
   ]
  },
  {
   "cell_type": "code",
   "execution_count": null,
   "metadata": {},
   "outputs": [],
   "source": [
    "grIm = cv2.imread('grid.png')\n",
    "\n",
    "plot_J(grIm, v)\n",
    "cv2.imwrite('J_VI.png', grIm)\n",
    "plt.imshow(grIm)\n",
    "plt.show()"
   ]
  },
  {
   "cell_type": "code",
   "execution_count": null,
   "metadata": {},
   "outputs": [],
   "source": [
    "grIm = cv2.imread('grid.png')\n",
    "\n",
    "plot_J(grIm, v_PI)\n",
    "cv2.imwrite('J_PI.png', grIm)\n",
    "plt.imshow(grIm)\n",
    "plt.show()"
   ]
  },
  {
   "cell_type": "code",
   "execution_count": null,
   "metadata": {},
   "outputs": [],
   "source": []
  }
 ],
 "metadata": {
  "accelerator": "GPU",
  "colab": {
   "name": "RL_Assignment.ipynb",
   "provenance": []
  },
  "kernelspec": {
   "display_name": "Python 3",
   "language": "python",
   "name": "python3"
  },
  "language_info": {
   "codemirror_mode": {
    "name": "ipython",
    "version": 3
   },
   "file_extension": ".py",
   "mimetype": "text/x-python",
   "name": "python",
   "nbconvert_exporter": "python",
   "pygments_lexer": "ipython3",
   "version": "3.7.4"
  }
 },
 "nbformat": 4,
 "nbformat_minor": 4
}
